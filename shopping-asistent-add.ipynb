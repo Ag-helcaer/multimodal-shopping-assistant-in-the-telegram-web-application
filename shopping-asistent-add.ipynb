{
 "cells": [
  {
   "cell_type": "code",
   "execution_count": null,
   "metadata": {
    "execution": {
     "iopub.execute_input": "2024-10-31T14:31:02.387406Z",
     "iopub.status.busy": "2024-10-31T14:31:02.386286Z",
     "iopub.status.idle": "2024-10-31T14:31:08.547495Z",
     "shell.execute_reply": "2024-10-31T14:31:08.546656Z",
     "shell.execute_reply.started": "2024-10-31T14:31:02.387356Z"
    },
    "trusted": true
   },
   "outputs": [
    {
     "name": "stdout",
     "output_type": "stream",
     "text": [
      "The token has not been saved to the git credentials helper. Pass `add_to_git_credential=True` in this function directly or `--add-to-git-credential` if using via `huggingface-cli` if you want to set the git credential as well.\n",
      "Token is valid (permission: read).\n",
      "Your token has been saved to /root/.cache/huggingface/token\n",
      "Login successful\n"
     ]
    },
    {
     "data": {
      "application/vnd.jupyter.widget-view+json": {
       "model_id": "c7101c2f953e4b21a3df56d433435664",
       "version_major": 2,
       "version_minor": 0
      },
      "text/plain": [
       "Loading checkpoint shards:   0%|          | 0/3 [00:00<?, ?it/s]"
      ]
     },
     "metadata": {},
     "output_type": "display_data"
    }
   ],
   "source": [
    "import logging\n",
    "import requests\n",
    "from PIL import Image\n",
    "import torch\n",
    "from transformers import AutoProcessor, AutoModelForPreTraining\n",
    "from io import BytesIO\n",
    "from huggingface_hub import login\n",
    "\n",
    "\n",
    "login('API token') - Ваш API токен для доступа к модели\n",
    "logging.basicConfig(format='%(asctime)s - %(name)s - %(levelname)s - %(message)s', level=logging.INFO)\n",
    "\n",
    "\n",
    "processor = AutoProcessor.from_pretrained(\"google/paligemma-3b-mix-224\")\n",
    "model = AutoModelForPreTraining.from_pretrained(\"google/paligemma-3b-mix-224\")\n",
    "\n",
    "def process_image(image_data):\n",
    "    prompt = \"Describe the clothing in this image. Include type, color, style, and any patterns or unique features.\"\n",
    "    model_inputs = processor(text=prompt, images=image_data, return_tensors=\"pt\").to(\"cpu\")\n",
    "    input_len = model_inputs[\"input_ids\"].shape[-1]\n",
    "\n",
    "    with torch.no_grad():\n",
    "        generation = model.generate(**model_inputs, max_new_tokens=200, do_sample=True, top_k=50, top_p=0.95)\n",
    "        generation = generation[0][input_len:]\n",
    "        decoded_description = processor.decode(generation, skip_special_tokens=True)\n",
    "\n",
    "    return decoded_description\n",
    "\n",
    "def describe_image(url):\n",
    "    try:\n",
    "        response = requests.get(url)\n",
    "        response.raise_for_status()\n",
    "        img = Image.open(BytesIO(response.content))\n",
    "        description = process_image(img)\n",
    "        return description\n",
    "    except requests.exceptions.RequestException as e:\n",
    "        logging.error(f\"Request failed: {e}\")\n",
    "        return \"Could not process the image from the link. Please check the URL.\"\n",
    "    except Exception as e:\n",
    "        logging.error(f\"Error processing image: {e}\")\n",
    "        return \"An error occurred while processing the image.\"\n",
    "\n"
   ]
  },
  {
   "cell_type": "code",
   "execution_count": 6,
   "metadata": {
    "execution": {
     "iopub.execute_input": "2024-10-31T14:31:13.574577Z",
     "iopub.status.busy": "2024-10-31T14:31:13.574116Z",
     "iopub.status.idle": "2024-10-31T14:31:36.866603Z",
     "shell.execute_reply": "2024-10-31T14:31:36.865539Z",
     "shell.execute_reply.started": "2024-10-31T14:31:13.574537Z"
    },
    "trusted": true
   },
   "outputs": [
    {
     "name": "stdout",
     "output_type": "stream",
     "text": [
      "Введите ссылку на изображение:  https://cdn.100sp.ru/pictures/172762609\n"
     ]
    },
    {
     "name": "stdout",
     "output_type": "stream",
     "text": [
      "Описание: blue checkered shirt\n"
     ]
    }
   ],
   "source": [
    "image_url = input(\"Введите ссылку на изображение: \")\n",
    "description = describe_image(image_url)\n",
    "print(f\"Описание: {description}\")"
   ]
  }
 ],
 "metadata": {
  "kaggle": {
   "accelerator": "nvidiaTeslaT4",
   "dataSources": [
    {
     "datasetId": 139630,
     "sourceId": 329006,
     "sourceType": "datasetVersion"
    }
   ],
   "isGpuEnabled": true,
   "isInternetEnabled": true,
   "language": "python",
   "sourceType": "notebook"
  },
  "kernelspec": {
   "display_name": "Python 3",
   "language": "python",
   "name": "python3"
  },
  "language_info": {
   "codemirror_mode": {
    "name": "ipython",
    "version": 3
   },
   "file_extension": ".py",
   "mimetype": "text/x-python",
   "name": "python",
   "nbconvert_exporter": "python",
   "pygments_lexer": "ipython3",
   "version": "3.10.14"
  }
 },
 "nbformat": 4,
 "nbformat_minor": 4
}
